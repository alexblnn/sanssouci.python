{
 "cells": [
  {
   "cell_type": "markdown",
   "metadata": {},
   "source": [
    "## Test sanssouci on functional MRI data\n",
    "\n",
    "In this notebook, we test the *sanssouci* module on fMRI data coming from of the *nilearn* package. The data were specifically obtained as described in the *nilearn* python notebook: [Massively univariate analysis of a motor task from the Localizer dataset](https://nilearn.github.io/auto_examples/07_advanced/plot_localizer_mass_univariate_methods.html)\n",
    "\n"
   ]
  },
  {
   "cell_type": "markdown",
   "metadata": {},
   "source": [
    "#### Step 1: setup"
   ]
  },
  {
   "cell_type": "code",
   "execution_count": 1,
   "metadata": {},
   "outputs": [],
   "source": [
    "import numpy as np\n",
    "import matplotlib.pyplot as plt \n",
    "\n",
    "import sanssouci as sa\n",
    "\n",
    "from nilearn import datasets\n",
    "from nilearn.input_data import NiftiMasker\n",
    "from nilearn.image import get_data\n"
   ]
  },
  {
   "cell_type": "markdown",
   "metadata": {},
   "source": [
    "#### Step 2: load data"
   ]
  },
  {
   "cell_type": "code",
   "execution_count": 2,
   "metadata": {},
   "outputs": [
    {
     "name": "stderr",
     "output_type": "stream",
     "text": [
      "/Users/lrisser/opt/anaconda3/lib/python3.8/site-packages/numpy/lib/npyio.py:2372: VisibleDeprecationWarning: Reading unicode strings without specifying the encoding argument is deprecated. Set the encoding, use None for the system default.\n",
      "  output = genfromtxt(fname, **kwargs)\n"
     ]
    }
   ],
   "source": [
    "n_samples = 16\n",
    "\n",
    "localizer_dataset_left = datasets.fetch_localizer_contrasts(\n",
    "    [\"left visual click\"], n_subjects=n_samples)\n",
    "\n",
    "localizer_dataset_right = datasets.fetch_localizer_contrasts(\n",
    "    [\"right visual click\"], n_subjects=n_samples)\n"
   ]
  },
  {
   "cell_type": "markdown",
   "metadata": {},
   "source": [
    "#### Step 3: quality control"
   ]
  },
  {
   "cell_type": "code",
   "execution_count": 3,
   "metadata": {},
   "outputs": [],
   "source": [
    "tested_var_left = localizer_dataset_left.ext_vars['pseudo']\n",
    "# Quality check / Remove subjects with bad tested variate\n",
    "mask_quality_check_left = np.where(tested_var_left != b'n/a')[0]\n",
    "n_samples_left = mask_quality_check_left.size\n",
    "contrast_map_filenames_left = [localizer_dataset_left.cmaps[i]\n",
    "                          for i in mask_quality_check_left]\n",
    "tested_var_left = tested_var_left[mask_quality_check_left].astype(float).reshape((-1, 1))\n",
    "\n",
    "tested_var_right = localizer_dataset_right.ext_vars['pseudo']\n",
    "# Quality check / Remove subjects with bad tested variate\n",
    "mask_quality_check_right = np.where(tested_var_right != b'n/a')[0]\n",
    "n_samples_right = mask_quality_check_right.size\n",
    "contrast_map_filenames_right = [localizer_dataset_right.cmaps[i]\n",
    "                          for i in mask_quality_check_right]\n",
    "tested_var_right = tested_var_right[mask_quality_check_right].astype(float).reshape((-1, 1))\n"
   ]
  },
  {
   "cell_type": "markdown",
   "metadata": {},
   "source": [
    "#### Step 4: smoothing"
   ]
  },
  {
   "cell_type": "code",
   "execution_count": 5,
   "metadata": {},
   "outputs": [
    {
     "name": "stdout",
     "output_type": "stream",
     "text": [
      "Number of observations: 30\n",
      "Observation labels: [0. 0. 0. 0. 0. 0. 0. 0. 0. 0. 0. 0. 0. 0. 0. 1. 1. 1. 1. 1. 1. 1. 1. 1.\n",
      " 1. 1. 1. 1. 1. 1.]\n"
     ]
    }
   ],
   "source": [
    "smt = 5\n",
    "\n",
    "nifti_masker = NiftiMasker(\n",
    "    smoothing_fwhm=smt,\n",
    "    memory='nilearn_cache', memory_level=1)  # cache options\n",
    "\n",
    "fmri_masked_left = nifti_masker.fit_transform(contrast_map_filenames_left)\n",
    "fmri_masked_left.shape\n",
    "\n",
    "fmri_masked_right = nifti_masker.fit_transform(contrast_map_filenames_right)\n",
    "fmri_masked_right.shape\n",
    "\n",
    "fmri_masked = np.concatenate((fmri_masked_left, fmri_masked_right))\n",
    "fmri_masked.shape\n",
    "\n",
    "columns_ok_left=[\"0\"]*fmri_masked_left.shape[0]\n",
    "columns_ok_right=[\"1\"]*fmri_masked_right.shape[0]\n",
    "columns_ok=columns_ok_left+columns_ok_right\n",
    "categ = np.array([float(columns_ok[i]) for i in range(len(columns_ok))])\n",
    "\n",
    "\n",
    "p = fmri_masked.shape[1]\n",
    "\n",
    "print('Number of observations:',len(categ))\n",
    "print('Observation labels:',categ)\n",
    "\n"
   ]
  },
  {
   "cell_type": "markdown",
   "metadata": {},
   "source": [
    "#### Step 5: Permutation p-values"
   ]
  },
  {
   "cell_type": "code",
   "execution_count": 6,
   "metadata": {},
   "outputs": [],
   "source": [
    "B = 100\n",
    "pval0=sa.get_perm_p(fmri_masked, categ, B=B , row_test_fun=sa.row_welch_tests)\n",
    "\n",
    "K=p\n",
    "piv_stat=sa.get_pivotal_stats(pval0, K=K)\n"
   ]
  },
  {
   "cell_type": "markdown",
   "metadata": {},
   "source": [
    "#### Step 6: Calibration"
   ]
  },
  {
   "cell_type": "code",
   "execution_count": 7,
   "metadata": {},
   "outputs": [],
   "source": [
    "alpha=0.1\n",
    "\n",
    "lambda_quant=np.quantile(piv_stat, alpha)\n",
    "thr=sa.t_linear(lambda_quant, np.arange(1,p+1), p)\n",
    "\n"
   ]
  },
  {
   "cell_type": "markdown",
   "metadata": {},
   "source": [
    "#### Step 7: Post hoc bound"
   ]
  },
  {
   "cell_type": "code",
   "execution_count": 8,
   "metadata": {},
   "outputs": [
    {
     "name": "stdout",
     "output_type": "stream",
     "text": [
      "197.0\n"
     ]
    }
   ],
   "source": [
    "\n",
    "swt=sa.row_welch_tests(fmri_masked, categ)\n",
    "p_values=swt['p_value'][:]\n",
    "p_values=p_values[np.argsort(p_values)]\n",
    "pvals=p_values[:500]\n",
    "pvals\n",
    "\n",
    "bound = sa.max_fp(pvals, thr)\n",
    "print(bound)\n"
   ]
  },
  {
   "cell_type": "markdown",
   "metadata": {},
   "source": [
    "#### Step 8: Confidence envelopes"
   ]
  },
  {
   "cell_type": "code",
   "execution_count": 9,
   "metadata": {},
   "outputs": [
    {
     "name": "stdout",
     "output_type": "stream",
     "text": [
      "[  0.   0.   0.   0.   0.   0.   0.   0.   0.   1.   1.   1.   1.   1.\n",
      "   1.   1.   1.   1.   1.   1.   1.   1.   1.   1.   1.   1.   2.   2.\n",
      "   2.   2.   2.   2.   2.   2.   2.   2.   3.   3.   3.   3.   3.   3.\n",
      "   3.   4.   4.   4.   4.   4.   4.   4.   4.   4.   4.   4.   5.   5.\n",
      "   5.   6.   6.   6.   6.   6.   6.   6.   6.   6.   7.   7.   7.   7.\n",
      "   7.   7.   7.   7.   8.   8.   8.   8.   9.   9.   9.  10.  10.  10.\n",
      "  10.  10.  10.  10.  11.  11.  11.  11.  11.  11.  11.  12.  12.  13.\n",
      "  13.  13.  13.  13.  13.  13.  13.  13.  13.  13.  13.  14.  14.  14.\n",
      "  14.  14.  14.  14.  15.  15.  15.  15.  15.  16.  16.  16.  16.  16.\n",
      "  17.  17.  17.  17.  17.  17.  17.  18.  18.  18.  19.  19.  19.  19.\n",
      "  19.  19.  20.  20.  20.  21.  21.  21.  21.  21.  21.  22.  23.  23.\n",
      "  24.  24.  24.  24.  25.  25.  25.  25.  25.  25.  26.  26.  26.  27.\n",
      "  27.  27.  28.  28.  29.  29.  29.  29.  30.  30.  30.  30.  30.  31.\n",
      "  31.  31.  31.  32.  32.  32.  33.  33.  33.  33.  34.  34.  34.  34.\n",
      "  34.  35.  35.  35.  36.  36.  37.  37.  37.  37.  38.  39.  40.  40.\n",
      "  40.  40.  40.  40.  41.  41.  41.  41.  42.  42.  43.  43.  44.  44.\n",
      "  44.  44.  44.  44.  45.  45.  45.  45.  46.  47.  48.  48.  49.  49.\n",
      "  49.  49.  50.  50.  51.  52.  52.  52.  52.  53.  53.  53.  53.  54.\n",
      "  54.  55.  55.  56.  56.  57.  57.  57.  58.  59.  59.  59.  59.  59.\n",
      "  59.  59.  60.  60.  61.  61.  62.  63.  64.  64.  64.  65.  65.  65.\n",
      "  66.  67.  68.  68.  69.  69.  69.  69.  69.  69.  70.  71.  71.  71.\n",
      "  71.  71.  71.  71.  72.  72.  73.  74.  74.  75.  75.  75.  75.  76.\n",
      "  76.  77.  78.  78.  78.  78.  79.  80.  80.  80.  80.  81.  81.  81.\n",
      "  81.  81.  81.  82.  82.  82.  82.  82.  83.  84.  85.  86.  87.  87.\n",
      "  87.  88.  88.  88.  89.  89.  89.  90.  90.  90.  91.  92.  92.  92.\n",
      "  92.  93.  94.  94.  94.  95.  96.  97.  98.  98.  99.  99. 100. 100.\n",
      " 101. 102. 103. 104. 105. 106. 107. 107. 107. 107. 107. 108. 108. 108.\n",
      " 108. 108. 109. 110. 111. 112. 112. 112. 113. 114. 114. 114. 115. 115.\n",
      " 116. 117. 118. 119. 120. 120. 121. 122. 123. 124. 125. 126. 127. 128.\n",
      " 128. 129. 129. 129. 130. 130. 131. 131. 131. 132. 132. 133. 134. 134.\n",
      " 135. 136. 136. 137. 137. 137. 137. 138. 139. 140. 141. 142. 143. 144.\n",
      " 145. 146. 147. 148. 149. 150. 151. 152. 153. 154. 155. 156. 157. 158.\n",
      " 159. 160. 160. 161. 161. 162. 162. 163. 164. 165. 165. 165. 165. 166.\n",
      " 167. 168. 169. 170. 171. 172. 173. 174. 175. 175. 176. 177. 178. 179.\n",
      " 180. 180. 180. 181. 181. 182. 182. 183. 183. 183. 184. 185. 186. 187.\n",
      " 188. 189. 190. 191. 192. 193. 194. 195. 196. 197.]\n"
     ]
    }
   ],
   "source": [
    "\n",
    "max_FP = sa.curve_max_fp(pvals, thr)\n",
    "print(max_FP)\n",
    "max_FP=sa.curve_max_fp(p_values, thr)\n"
   ]
  },
  {
   "cell_type": "markdown",
   "metadata": {},
   "source": [
    "#### Step 9: Show the results"
   ]
  },
  {
   "cell_type": "code",
   "execution_count": 10,
   "metadata": {},
   "outputs": [
    {
     "data": {
      "image/png": "[encoded data removed]",
      "text/plain": [
       "<Figure size 432x288 with 2 Axes>"
      ]
     },
     "metadata": {
      "needs_background": "light"
     },
     "output_type": "display_data"
    }
   ],
   "source": [
    "\n",
    "rg = np.arange(1, p+1)\n",
    "max_FDP = max_FP / rg\n",
    "min_TP = rg - max_FP\n",
    "plt.subplot(121)\n",
    "plt.plot(max_FDP)\n",
    "plt.title('Upper bound on FDP')\n",
    "plt.xlim(1, 1000)\n",
    "plt.subplot(122)\n",
    "plt.plot(min_TP)\n",
    "plt.title('Lower bound on TP')\n",
    "plt.xlim(1, 1000)\n",
    "plt.show()\n"
   ]
  },
  {
   "cell_type": "code",
   "execution_count": null,
   "metadata": {},
   "outputs": [],
   "source": []
  }
 ],
 "metadata": {
  "kernelspec": {
   "display_name": "Python 3",
   "language": "python",
   "name": "python3"
  },
  "language_info": {
   "codemirror_mode": {
    "name": "ipython",
    "version": 3
   },
   "file_extension": ".py",
   "mimetype": "text/x-python",
   "name": "python",
   "nbconvert_exporter": "python",
   "pygments_lexer": "ipython3",
   "version": "3.8.3"
  }
 },
 "nbformat": 4,
 "nbformat_minor": 4
}
