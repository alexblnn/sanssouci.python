{
 "cells": [
  {
   "cell_type": "markdown",
   "metadata": {},
   "source": [
    "## Test sanssouci on synthetic data\n",
    "\n",
    "In this introductory notebook, we test the *sanssouci* module on synthetic data. Note that they contain no signal, so trivial bounds are expected in the end.\n"
   ]
  },
  {
   "cell_type": "markdown",
   "metadata": {},
   "source": [
    "#### Step 1: generate phantom data"
   ]
  },
  {
   "cell_type": "code",
   "execution_count": 1,
   "metadata": {},
   "outputs": [],
   "source": [
    "import sanssouci as sa\n",
    "import numpy as np\n",
    "\n",
    "p = 130\n",
    "n = 45\n",
    "\n",
    "X=np.random.randn(n,p)  \n",
    "categ=np.random.binomial(1, 0.4, size=n)\n"
   ]
  },
  {
   "cell_type": "markdown",
   "metadata": {},
   "source": [
    "#### Step 2: test the pivotal stats algorithm"
   ]
  },
  {
   "cell_type": "code",
   "execution_count": 2,
   "metadata": {},
   "outputs": [],
   "source": [
    "B = 100\n",
    "pval0=sa.get_perm_p(X, categ, B=B , row_test_fun=sa.row_welch_tests)\n",
    "\n",
    "K=p\n",
    "piv_stat=sa.get_pivotal_stats(pval0, K=K)\n"
   ]
  },
  {
   "cell_type": "markdown",
   "metadata": {},
   "source": [
    "#### Step 3: Compute Bounds"
   ]
  },
  {
   "cell_type": "code",
   "execution_count": 3,
   "metadata": {},
   "outputs": [
    {
     "name": "stdout",
     "output_type": "stream",
     "text": [
      "thr: [0.00054349 0.00108699 0.00163048 0.00217397 0.00271746 0.00326096\n",
      " 0.00380445 0.00434794 0.00489143 0.00543493 0.00597842 0.00652191\n",
      " 0.0070654  0.0076089  0.00815239 0.00869588 0.00923938 0.00978287\n",
      " 0.01032636 0.01086985 0.01141335 0.01195684 0.01250033 0.01304382\n",
      " 0.01358732 0.01413081 0.0146743  0.01521779 0.01576129 0.01630478\n",
      " 0.01684827 0.01739176 0.01793526 0.01847875 0.01902224 0.01956574\n",
      " 0.02010923 0.02065272 0.02119621 0.02173971 0.0222832  0.02282669\n",
      " 0.02337018 0.02391368 0.02445717 0.02500066 0.02554415 0.02608765\n",
      " 0.02663114 0.02717463 0.02771813 0.02826162 0.02880511 0.0293486\n",
      " 0.0298921  0.03043559 0.03097908 0.03152257 0.03206607 0.03260956\n",
      " 0.03315305 0.03369654 0.03424004 0.03478353 0.03532702 0.03587051\n",
      " 0.03641401 0.0369575  0.03750099 0.03804449 0.03858798 0.03913147\n",
      " 0.03967496 0.04021846 0.04076195 0.04130544 0.04184893 0.04239243\n",
      " 0.04293592 0.04347941 0.0440229  0.0445664  0.04510989 0.04565338\n",
      " 0.04619688 0.04674037 0.04728386 0.04782735 0.04837085 0.04891434\n",
      " 0.04945783 0.05000132 0.05054482 0.05108831 0.0516318  0.05217529\n",
      " 0.05271879 0.05326228 0.05380577 0.05434927 0.05489276 0.05543625\n",
      " 0.05597974 0.05652324 0.05706673 0.05761022 0.05815371 0.05869721\n",
      " 0.0592407  0.05978419 0.06032768 0.06087118 0.06141467 0.06195816\n",
      " 0.06250165 0.06304515 0.06358864 0.06413213 0.06467563 0.06521912\n",
      " 0.06576261 0.0663061  0.0668496  0.06739309 0.06793658 0.06848007\n",
      " 0.06902357 0.06956706 0.07011055 0.07065404]\n",
      "\n",
      "pvals: [0.46893685 0.70263012 0.05915969 0.81309742 0.65318083 0.97355251\n",
      " 0.52531105 0.70082906 0.95870548 0.0292813 ]\n",
      "\n",
      "bound: 10.0\n"
     ]
    }
   ],
   "source": [
    "alpha=0.1\n",
    "\n",
    "lambda_quant=np.quantile(piv_stat, alpha)\n",
    "thr=sa.t_linear(lambda_quant, np.arange(1,p+1), p)\n",
    "swt=sa.row_welch_tests(X, categ)\n",
    "p_values=swt['p_value'][:]\n",
    "pvals=p_values[:10]\n",
    "\n",
    "print(\"thr:\",thr)\n",
    "print(\"\\npvals:\",pvals)\n",
    "\n",
    "bound = sa.max_fp(pvals, thr)\n",
    "print(\"\\nbound:\",bound)\n"
   ]
  },
  {
   "cell_type": "code",
   "execution_count": null,
   "metadata": {},
   "outputs": [],
   "source": []
  },
  {
   "cell_type": "code",
   "execution_count": null,
   "metadata": {},
   "outputs": [],
   "source": []
  }
 ],
 "metadata": {
  "kernelspec": {
   "display_name": "Python 3",
   "language": "python",
   "name": "python3"
  },
  "language_info": {
   "codemirror_mode": {
    "name": "ipython",
    "version": 3
   },
   "file_extension": ".py",
   "mimetype": "text/x-python",
   "name": "python",
   "nbconvert_exporter": "python",
   "pygments_lexer": "ipython3",
   "version": "3.8.3"
  }
 },
 "nbformat": 4,
 "nbformat_minor": 4
}
